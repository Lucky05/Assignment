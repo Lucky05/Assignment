{
 "cells": [
  {
   "cell_type": "markdown",
   "metadata": {},
   "source": [
    "# Problem one aug_10"
   ]
  },
  {
   "cell_type": "code",
   "execution_count": 4,
   "metadata": {},
   "outputs": [
    {
     "name": "stdout",
     "output_type": "stream",
     "text": [
      "nonPrimeFactorsCount(100) 2\n",
      "nonPrimeFactorsCount(50) 1\n"
     ]
    }
   ],
   "source": [
    "def prob1(a):\n",
    "\tk = []\n",
    "\tf =[]\n",
    "\tfor i in range (1,a):\n",
    "\t\tfactor = a%i\n",
    "\t\tif factor == 0:\n",
    "\t\t\tk.append(i)\n",
    "\tk.append(a)\n",
    "# \tprint(k)\n",
    "\t# number = []\n",
    "\tfor i in range(0,len(k)):\n",
    "\t\tfact = k[i]\n",
    "# \t\tprint(fact)\n",
    "\t\tif fact == 1:\n",
    "\t\t\tf.append(fact)\n",
    "# \t\t\tprint(f)\n",
    "\t\telif fact == 2:\n",
    "\t\t\tf.append(fact)\n",
    "# \t\t\tprint(f)\n",
    "\t\telse:\n",
    "\t\t\tnumber = []\n",
    "\t\t\tfor i in range(2,fact):\n",
    "\t\t\t\tr =  fact%i\n",
    "\t\t\t\tnumber.append(r)\n",
    "\t\t\tfor i in range(0,len(number)):\n",
    "\t\t\t\tb = number[i]\n",
    "\t\t\t\tif b == 0:\n",
    "\t\t\t\t\tbreak\n",
    "\t\t\t\telse:\n",
    "\t\t\t\t\tif i+2 > len(number):\n",
    "\t\t\t\t\t\t# print \"%d is a prime number\" %a\n",
    "\t\t\t\t\t\tf.append(fact)\n",
    "\tcount = len(k) -len(f)\n",
    "# \tprint  (len(k) , len(f), count, f)\n",
    "\tzerono = []\n",
    "\tfor i in range(0,len(k)):\n",
    "\n",
    "\t\tr = k[i]%10\n",
    "\t\tif r ==0:\n",
    "\t\t\tzerono.append(k[i])\n",
    "# \tprint(zerono)\n",
    "\tcount = len(k) -len(f) - len(zerono)\n",
    "\tprint  (\"nonPrimeFactorsCount(%d)\" %(a), count)\n",
    "\n",
    "prob1(100)\n",
    "prob1(50)"
   ]
  },
  {
   "cell_type": "markdown",
   "metadata": {},
   "source": [
    "# Problem 2"
   ]
  },
  {
   "cell_type": "code",
   "execution_count": null,
   "metadata": {},
   "outputs": [],
   "source": [
    "def stri(a ,b):\n",
    "    print(a.count(b)) \n",
    "\n",
    "a = input('enter a')\n",
    "b=input('enter b')\n",
    "stri(a,b)\n",
    "\n"
   ]
  }
 ],
 "metadata": {
  "kernelspec": {
   "display_name": "Python 3",
   "language": "python",
   "name": "python3"
  },
  "language_info": {
   "codemirror_mode": {
    "name": "ipython",
    "version": 3
   },
   "file_extension": ".py",
   "mimetype": "text/x-python",
   "name": "python",
   "nbconvert_exporter": "python",
   "pygments_lexer": "ipython3",
   "version": "3.7.3"
  }
 },
 "nbformat": 4,
 "nbformat_minor": 2
}
